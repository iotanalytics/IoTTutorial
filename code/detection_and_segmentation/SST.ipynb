{
  "nbformat": 4,
  "nbformat_minor": 0,
  "metadata": {
    "colab": {
      "name": "SST.ipynb",
      "provenance": [],
      "authorship_tag": "ABX9TyOtiMrnw6wtYmhCdSgaFN8A",
      "include_colab_link": true
    },
    "kernelspec": {
      "name": "python3",
      "display_name": "Python 3"
    },
    "language_info": {
      "name": "python"
    }
  },
  "cells": [
    {
      "cell_type": "markdown",
      "metadata": {
        "id": "view-in-github",
        "colab_type": "text"
      },
      "source": [
        "<a href=\"https://colab.research.google.com/github/iotanalytics/IoTTutorial/blob/main/code/detection_and_segmentation/SST.ipynb\" target=\"_parent\"><img src=\"https://colab.research.google.com/assets/colab-badge.svg\" alt=\"Open In Colab\"/></a>"
      ]
    },
    {
      "cell_type": "markdown",
      "metadata": {
        "id": "A9UXNWNhCZ35"
      },
      "source": [
        "# SST (Singular Spectrum Transformation)\n",
        "\n",
        "Source: https://github.com/statefb/singular-spectrum-transformation\n",
        "\n",
        "More examples at https://github.com/statefb/singular-spectrum-transformation/blob/master/notebooks/examples.ipynb\n",
        "\n",
        "Comparison between SVD and Lanczos https://github.com/statefb/singular-spectrum-transformation/blob/master/notebooks/comparison_between_svd_and_lanczos.ipynb\n",
        "\n",
        "\n",
        "Tsuyoshi Ide, Koji Tsuda, Change-Point Detection using Krylov Subspace Learning, SIAM International Conference on Data Mining, pp.515-520, 2007\n",
        "Tsuyoshi Ide, Speeding up Change-Point Detection using Matrix Compression (Japanse), Workshop on Information-Based Induction Sciences, 2006\n",
        "Tsuyoshi Ide, Masashi Sugiyama, Anomaly Detection and Change Detection (Japanse), Kodansha, 2015"
      ]
    },
    {
      "cell_type": "code",
      "metadata": {
        "id": "KifwwsxfvdE8"
      },
      "source": [
        "from fastsst import SingularSpectrumTransformation\n",
        "import numpy as np\n",
        "import pandas as pd\n",
        "import matplotlib.pyplot as plt\n",
        "\n",
        "\n",
        "def plot_data_and_score(raw_data, score):\n",
        "    f,ax = plt.subplots(2, 1, figsize=(20, 10))\n",
        "    ax[0].plot(raw_data); ax[0].set_title(\"raw data\")\n",
        "    ax[1].plot(score,\"r\"); ax[1].set_title(\"score\")\n",
        "\n",
        "\n",
        "sst = SingularSpectrumTransformation(win_length=30)\n",
        "\n",
        "\"\"\"\n",
        "note:\n",
        " - data must be 1d np.ndarray\n",
        " - the first run takes a few seconds for jit compling\n",
        "\"\"\"\n",
        "x0 = np.sin(2*np.pi*1*np.linspace(0,10,1000))\n",
        "x1 = np.sin(2*np.pi*2*np.linspace(0,10,1000))\n",
        "x2 = np.sin(2*np.pi*8*np.linspace(0,10,1000))\n",
        "x = np.hstack([x0, x1, x2])\n",
        "x +=  + np.random.rand(x.size)\n",
        "\n",
        "data = x\n",
        "score = SingularSpectrumTransformation(win_length=60, order=60, lag=10).score_offline(data)\n",
        "\n",
        "#score = sst.score_offline(data)\n",
        "\n",
        "plot_data_and_score(data, score)\n",
        "\n",
        "\n",
        "\n",
        "x0 = 1 * np.ones(1000) + np.random.rand(1000) * 1\n",
        "x1 = 3 * np.ones(1000) + np.random.rand(1000) * 2\n",
        "x2 = 5 * np.ones(1000) + np.random.rand(1000) * 1.5\n",
        "x = np.hstack([x0, x1, x2])\n",
        "x +=  np.random.rand(x.size)\n",
        "\n",
        "score = SingularSpectrumTransformation(win_length=50).score_offline(x)\n",
        "plot_data_and_score(x, score)"
      ],
      "execution_count": null,
      "outputs": []
    },
    {
      "cell_type": "code",
      "metadata": {
        "id": "wU130LsPKCkE"
      },
      "source": [
        "from fastsst import SingularSpectrumTransformation\n",
        "import numpy as np\n",
        "import pandas as pd\n",
        "import matplotlib.pyplot as plt\n",
        "\n",
        "\n",
        "def plot_data_and_score(raw_data, score):\n",
        "    f,ax = plt.subplots(2, 1, figsize=(20, 10))\n",
        "    ax[0].plot(raw_data); ax[0].set_title(\"raw data\")\n",
        "    ax[1].plot(score,\"r\"); ax[1].set_title(\"score\")\n",
        "\n",
        "\n",
        "sst = SingularSpectrumTransformation(win_length=30)\n",
        "\n",
        "\"\"\"\n",
        "note:\n",
        " - data must be 1d np.ndarray\n",
        " - the first run takes a few seconds for jit compling\n",
        "\"\"\"\n",
        "x0 = np.sin(2*np.pi*1*np.linspace(0,10,1000))\n",
        "x1 = np.sin(2*np.pi*2*np.linspace(0,10,1000))\n",
        "x2 = np.sin(2*np.pi*8*np.linspace(0,10,1000))\n",
        "x = np.hstack([x0, x1, x2])\n",
        "x +=  + np.random.rand(x.size)\n",
        "\n",
        "data = x\n",
        "score = SingularSpectrumTransformation(win_length=60, order=60, lag=10).score_offline(data)\n",
        "\n",
        "#score = sst.score_offline(data)\n",
        "\n",
        "plot_data_and_score(data, score)\n",
        "\n",
        "\n",
        "\n",
        "x0 = 1 * np.ones(1000) + np.random.rand(1000) * 1\n",
        "x1 = 3 * np.ones(1000) + np.random.rand(1000) * 2\n",
        "x2 = 5 * np.ones(1000) + np.random.rand(1000) * 1.5\n",
        "x = np.hstack([x0, x1, x2])\n",
        "x +=  np.random.rand(x.size)\n",
        "\n",
        "score = SingularSpectrumTransformation(win_length=50).score_offline(x)\n",
        "plot_data_and_score(x, score)"
      ],
      "execution_count": null,
      "outputs": []
    }
  ]
}