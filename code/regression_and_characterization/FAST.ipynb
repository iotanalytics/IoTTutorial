{
  "nbformat": 4,
  "nbformat_minor": 0,
  "metadata": {
    "colab": {
      "name": "Untitled5.ipynb",
      "provenance": [],
      "authorship_tag": "ABX9TyPYaDVGPTqlveUYTeJecNyY",
      "include_colab_link": true
    },
    "kernelspec": {
      "name": "python3",
      "display_name": "Python 3"
    },
    "language_info": {
      "name": "python"
    }
  },
  "cells": [
    {
      "cell_type": "markdown",
      "metadata": {
        "id": "view-in-github",
        "colab_type": "text"
      },
      "source": [
        "<a href=\"https://colab.research.google.com/github/iotanalytics/IoTTutorial/blob/main/code/regression_and_characterization/FAST.ipynb\" target=\"_parent\"><img src=\"https://colab.research.google.com/assets/colab-badge.svg\" alt=\"Open In Colab\"/></a>"
      ]
    },
    {
      "cell_type": "markdown",
      "metadata": {
        "id": "laan__oqfZmM"
      },
      "source": [
        "## Fingerprint And Similarity Thresholding (FAST)\n",
        "\n",
        "FAST adapts a data mining algorithm, originally designed to identify similar audio clips within large databases; it first creates compact “fingerprints” of waveforms by extracting key discriminative features, then groups similar fingerprints together within a database to facilitate fast, scalable search for similar fingerprint pairs, and finally generates a list of earthquake detections. FAST can analyze a week of continuous seismic waveform data in less than 2 hours, or 140 times faster than autocorrelation.\n",
        "\n",
        "Code: https://github.com/stanford-futuredata/FAST\n",
        "Guide: https://github.com/stanford-futuredata/FAST/blob/master/FAST_userguide_v0.pdf\n",
        "Paper: https://advances.sciencemag.org/content/advances/1/11/e1501057.full.pdf\n",
        "\n",
        "\n",
        "Comparison of earthquake detection methods (STA/LTA, template matching, autocorrelation) in terms of three\n",
        "qualitative metrics: Detection sensitivity, general applicability, and\n",
        "computational efficiency. STA/LTA scores high on general applicability\n",
        "because it finds unknown sources, scores high on computational efficiency\n",
        "because it detects earthquakes in real time, but scores low on detection\n",
        "sensitivity because it can miss low-snr seismic events. Template matching\n",
        "rates high on detection sensitivity because cross-correlation can find lowsnr events, rates high on computational efficiency because we only need to\n",
        "cross-correlate continuous data with a small set of template waveforms,\n",
        "but rates low on general applicability because template waveforms need\n",
        "to be determined in advance. Autocorrelation has high detection sensitivity\n",
        "because it cross-correlates waveforms, and high general applicability because it can find unknown similar sources, but has very low computational\n",
        "efficiency that scales poorly with the size of the continuous data set. FAST\n",
        "performs well with respect to all three metrics, combining the detection sensitivity and general applicability of correlation-based detection with high\n",
        "computational efficiency and scalability."
      ]
    },
    {
      "cell_type": "code",
      "metadata": {
        "id": "iFDnpN9qfaKv"
      },
      "source": [
        ""
      ],
      "execution_count": null,
      "outputs": []
    }
  ]
}