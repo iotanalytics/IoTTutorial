{
  "nbformat": 4,
  "nbformat_minor": 0,
  "metadata": {
    "colab": {
      "name": "Untitled6.ipynb",
      "provenance": [],
      "authorship_tag": "ABX9TyM1eoXwKrYn+FBXsVjc5gCS",
      "include_colab_link": true
    },
    "kernelspec": {
      "name": "python3",
      "display_name": "Python 3"
    },
    "language_info": {
      "name": "python"
    }
  },
  "cells": [
    {
      "cell_type": "markdown",
      "metadata": {
        "id": "view-in-github",
        "colab_type": "text"
      },
      "source": [
        "<a href=\"https://colab.research.google.com/github/iotanalytics/IoTTutorial/blob/main/code/regression_and_characterization/spectral_clustering.ipynb\" target=\"_parent\"><img src=\"https://colab.research.google.com/assets/colab-badge.svg\" alt=\"Open In Colab\"/></a>"
      ]
    },
    {
      "cell_type": "markdown",
      "metadata": {
        "id": "_nSrQxiUlCp1"
      },
      "source": [
        "##Spectral Clustering [Unsupervised]\n",
        "\n",
        "Spectral clustering is a way to cluster data that has a number of benefits and applications. It relies on the eigenvalue decomposition of a matrix, which is a useful factorization theorem in matrix theory. It is a technique with roots in graph theory, where the approach is used to identify communities of nodes in a graph based on the edges connecting them. The method is flexible and allows us to cluster non graph data as well.\n",
        "\n",
        "[Introduction of Spectral clustering](https://drive.google.com/file/d/16P0ftp1Tda_AhTzDz50MieR1Ol0B3hyh/view?usp=sharing)\n",
        "\n",
        "Pros\n",
        "*   Clusters are not assumed to be any certain shape/distribution, in contrast to say k-means. This means the spectral clustering algorithm can perform well with a wide variety of shapes of data.\n",
        "*   Works quite well when relations are approximately transitive (like similarity)\n",
        "\n",
        "Cons\n",
        "*   Need to choose the number of clusters k, although there is a heuristic to help choose\n",
        "*   Can be costly to compute, although there are algorithms and frameworks to help\n",
        "*   For very large datasets computing eigenvectors is computationally expensive and becomes the bottleneck\n",
        "\n",
        "**References:**\n",
        "\n",
        "\n",
        "1.   https://www.mygreatlearning.com/blog/introduction-to-spectral-clustering/\n",
        "2.   https://scikit-learn.org/stable/modules/generated/sklearn.cluster.SpectralClustering.html\n",
        "3.   https://people.csail.mit.edu/dsontag/courses/ml14/notes/Luxburg07_tutorial_spectral_clustering.pdf\n",
        "\n",
        "\n"
      ]
    },
    {
      "cell_type": "code",
      "metadata": {
        "id": "Mu7TIAlrlaWK"
      },
      "source": [
        ""
      ],
      "execution_count": null,
      "outputs": []
    }
  ]
}