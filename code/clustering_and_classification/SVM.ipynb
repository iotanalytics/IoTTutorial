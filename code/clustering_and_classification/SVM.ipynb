{
  "nbformat": 4,
  "nbformat_minor": 0,
  "metadata": {
    "colab": {
      "name": "Coshatt-SVM.ipynb",
      "provenance": [],
      "authorship_tag": "ABX9TyPzAt5g/cuSsGmYiUpUyGRl",
      "include_colab_link": true
    },
    "kernelspec": {
      "name": "python3",
      "display_name": "Python 3"
    },
    "language_info": {
      "name": "python"
    }
  },
  "cells": [
    {
      "cell_type": "markdown",
      "metadata": {
        "id": "view-in-github",
        "colab_type": "text"
      },
      "source": [
        "<a href=\"https://colab.research.google.com/github/iotanalytics/IoTTutorial/blob/main/code/clustering_and_classification/SVM.ipynb\" target=\"_parent\"><img src=\"https://colab.research.google.com/assets/colab-badge.svg\" alt=\"Open In Colab\"/></a>"
      ]
    },
    {
      "cell_type": "markdown",
      "metadata": {
        "id": "MrgCSAQnDxGy"
      },
      "source": [
        "## Support Vector Machine (SVM)\n",
        "From **Avinash Navlani's Tutorial**.  See reference [1]\n",
        "</br></br>\n",
        "\n",
        "\n",
        "\"Generally, Support Vector Machines is considered to be a classification approach, it but can be employed in both types of classification and regression problems. It can easily handle multiple continuous and categorical variables. SVM constructs a hyperplane in multidimensional space to separate different classes. SVM generates optimal hyperplane in an iterative manner, which is used to minimize an error. The core idea of SVM is to find a maximum marginal hyperplane(MMH) that best divides the dataset into classes.\" [1]\n",
        "\n",
        "**Support Vectors**\n",
        "\"Support vectors are the data points, which are closest to the hyperplane. These points will define the separating line better by calculating margins. These points are more relevant to the construction of the classifier.\" [1]\n",
        "\n",
        "**Hyperplane**\n",
        "\"A hyperplane is a decision plane which separates between a set of objects having different class memberships.\" [1]\n",
        "\n",
        "**Margin**\n",
        "\"A margin is a gap between the two lines on the closest class points. This is calculated as the perpendicular distance from the line to support vectors or closest points. If the margin is larger in between the classes, then it is considered a good margin, a smaller margin is a bad margin.\" [1]\n",
        "\n",
        "\n",
        "**How does SVM work?**\n",
        "\"The main objective is to segregate the given dataset in the best possible way. The distance between the either nearest points is known as the margin. The objective is to select a hyperplane with the maximum possible margin between support vectors in the given dataset. SVM searches for the maximum marginal hyperplane in the following steps:\n",
        "\n",
        "Generate hyperplanes which segregates the classes in the best way. Left-hand side figure showing three hyperplanes black, blue and orange. Here, the blue and orange have higher classification error, but the black is separating the two classes correctly.\n",
        "\n",
        "Select the right hyperplane with the maximum segregation from the either nearest data points as shown in the right-hand side figure.\" [1]\n",
        "\n",
        "![svmdiag.png](data:image/png;base64,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)\n",
        "\n",
        "**Dealing with non-linear and inseparable planes**\n",
        "\"Some problems can’t be solved using linear hyperplane, as shown in the figure below (left-hand side).\" [1]\n",
        "\n",
        "\"In such situation, SVM uses a kernel trick to transform the input space to a higher dimensional space as shown on the right. The data points are plotted on the x-axis and z-axis (Z is the squared sum of both x and y: z=x^2=y^2). Now you can easily segregate these points using linear separation.\" [1]\n",
        "\n",
        "**SVM Kernels:**\n",
        "\"The SVM algorithm is implemented in practice using a kernel. A kernel transforms an input data space into the required form. SVM uses a technique called the kernel trick. Here, the kernel takes a low-dimensional input space and transforms it into a higher dimensional space. In other words, you can say that it converts nonseparable problem to separable problems by adding more dimension to it. It is most useful in non-linear separation problem. Kernel trick helps you to build a more accurate classifier.\" [1]\n",
        "\n",
        "**Linear Kernel:** \n",
        "\"A linear kernel can be used as normal dot product any two given observations. The product between two vectors is the sum of the multiplication of each pair of input values.\" [1]\n",
        "\n",
        "**K(x, xi) = sum(x * xi)**\n",
        "\n",
        "**Polynomial Kernel:** \n",
        "\"A polynomial kernel is a more generalized form of the linear kernel. The polynomial kernel can distinguish curved or nonlinear input space.\" [1]\n",
        "\n",
        "**K(x,xi) = 1 + sum(x * xi)^d**\n",
        "\n",
        "\"Where d is the degree of the polynomial. d=1 is similar to the linear transformation. The degree needs to be manually specified in the learning algorithm.\" [1]\n",
        "\n",
        "**Radial Basis Function Kernel:** \n",
        "\"The Radial basis function kernel is a popular kernel function commonly used in support vector machine classification. RBF can map an input space in infinite dimensional space.\" [1]\n",
        "\n",
        "**K(x,xi) = exp(-gamma * sum((x – xi^2))**\n",
        "\n",
        "\"Here gamma is a parameter, which ranges from 0 to 1. A higher value of gamma will perfectly fit the training dataset, which causes over-fitting. Gamma=0.1 is considered to be a good default value. The value of gamma needs to be manually specified in the learning algorithm.\" [1]\n",
        "\n",
        "**Refernece:**\n",
        "\n",
        "1.   https://www.datacamp.com/community/tutorials/svm-classification-scikit-learn-python\n",
        "2.   https://www.analyticsvidhya.com/blog/2017/09/understaing-support-vector-machine-example-code/\n",
        "\n"
      ]
    },
    {
      "cell_type": "markdown",
      "metadata": {
        "id": "uzGj1FefNTRE"
      },
      "source": [
        "**Pros and Cons associated with SVM**\n",
        "\n",
        "*from Reference [2]*\n",
        "\n",
        "**Pros:**\n",
        "\n",
        "*   It works really well with a clear margin of separation\n",
        "*   It is effective in high dimensional spaces.\n",
        "*   It is effective in cases where the number of dimensions is greater than the number of samples.\n",
        "*   It uses a subset of training points in the decision function (called support vectors), so it is also memory efficient\n",
        "\n",
        "**Cons:**\n",
        "\n",
        "\n",
        "*   It doesn’t perform well when we have large data set because the required training time is higher.\n",
        "*   It also doesn’t perform very well, when the data set has more noise i.e. target classes are overlapping\n",
        "*   SVM doesn’t directly provide probability estimates, these are calculated using an expensive five-fold cross-validation.  It is included in the related SVC method of Python scikit-learn library."
      ]
    },
    {
      "cell_type": "code",
      "metadata": {
        "colab": {
          "base_uri": "https://localhost:8080/"
        },
        "id": "JewYeC3PDsOu",
        "outputId": "abe136b6-9ff1-47a6-88c1-ca77a828229d"
      },
      "source": [
        "# CODE is from Referenc [3]\n",
        "\n",
        "import os\n",
        "import numpy as np\n",
        "import tensorflow as tf\n",
        "from sklearn.metrics import confusion_matrix, classification_report, f1_score\n",
        "from sklearn import preprocessing\n",
        "from sklearn import svm\n",
        "from sklearn.metrics import plot_confusion_matrix\n",
        "#import plot_confusion_matrix as pcm  # SJC modified this line with the line above\n",
        "import matplotlib.pylab as plt\n",
        "#Adding pandas\n",
        "import pandas as pd\n",
        "%matplotlib"
      ],
      "execution_count": null,
      "outputs": [
        {
          "output_type": "stream",
          "text": [
            "Using matplotlib backend: agg\n"
          ],
          "name": "stdout"
        }
      ]
    },
    {
      "cell_type": "code",
      "metadata": {
        "id": "iqHB-m6ORAN-"
      },
      "source": [
        "#SJC - original data used in this example is located here:\n",
        "# https://archive.ics.uci.edu/ml/datasets/Human+Activity+Recognition+Using+Smartphones\n",
        "# Github data files located here:\n",
        "# https://github.com/jeandeducla/ML-Time-Series/tree/master/data\n",
        "\n",
        "# Raw signals\n",
        "# X axis\n",
        "url_Xtrainx = 'https://raw.githubusercontent.com/jeandeducla/ML-Time-Series/master/data/X_x_train.txt'\n",
        "url_Xtestx = 'https://raw.githubusercontent.com/jeandeducla/ML-Time-Series/master/data/X_x_test.txt'\n",
        "df_Xtrainx = pd.read_csv(url_Xtrainx)\n",
        "df_Xtestx = pd.read_csv(url_Xtestx)\n",
        "X_train_x_raw = df_Xtrainx.to_numpy()\n",
        "X_test_x_raw = df_Xtestx.to_numpy()\n",
        "\n",
        "# Y axis\n",
        "url_Xtrainy = 'https://raw.githubusercontent.com/jeandeducla/ML-Time-Series/master/data/X_y_train.txt'\n",
        "url_Xtesty = 'https://raw.githubusercontent.com/jeandeducla/ML-Time-Series/master/data/X_y_test.txt'\n",
        "df_Xtrainy = pd.read_csv(url_Xtrainy)\n",
        "df_Xtesty = pd.read_csv(url_Xtesty)\n",
        "X_train_y_raw = df_Xtrainy.to_numpy()\n",
        "X_test_y_raw = df_Xtesty.to_numpy()\n",
        "\n",
        "# Z axis\n",
        "url_Xtrainz = 'https://raw.githubusercontent.com/jeandeducla/ML-Time-Series/master/data/X_z_train.txt'\n",
        "url_Xtestz = 'https://raw.githubusercontent.com/jeandeducla/ML-Time-Series/master/data/X_z_test.txt'\n",
        "df_Xtrainz = pd.read_csv(url_Xtrainz)\n",
        "df_Xtestz = pd.read_csv(url_Xtestz)\n",
        "X_train_z_raw = df_Xtrainz.to_numpy()\n",
        "X_test_z_raw = df_Xtestz.to_numpy()\n",
        "\n",
        "# Labels\n",
        "url_ytrain = 'https://raw.githubusercontent.com/jeandeducla/ML-Time-Series/master/data/y_train.txt'\n",
        "url_ytest = 'https://raw.githubusercontent.com/jeandeducla/ML-Time-Series/master/data/y_test.txt'\n",
        "df_ytrain = pd.read_csv(url_ytrain)\n",
        "df_ytest = pd.read_csv(url_ytest)\n",
        "y_train = df_ytrain.to_numpy()\n",
        "y_test = df_ytest.to_numpy()"
      ],
      "execution_count": null,
      "outputs": []
    },
    {
      "cell_type": "code",
      "metadata": {
        "colab": {
          "base_uri": "https://localhost:8080/"
        },
        "id": "97C3HK0LPDxt",
        "outputId": "1a894440-3514-47a7-fcb3-03197ba58dd0"
      },
      "source": [
        "\"\"\" # This code from source not used in this example\n",
        "os.chdir('data')\n",
        "# Raw signals\n",
        "# X axis\n",
        "X_train_x_raw = np.loadtxt('X_x_train.txt')\n",
        "X_test_x_raw = np.loadtxt('X_x_test.txt')\n",
        "# Y axis\n",
        "X_train_y_raw = np.loadtxt('X_y_train.txt')\n",
        "X_test_y_raw = np.loadtxt('X_y_test.txt')\n",
        "# Z axis\n",
        "X_train_z_raw = np.loadtxt('X_z_train.txt')\n",
        "X_test_z_raw = np.loadtxt('X_z_test.txt')\n",
        "\"\"\"\n",
        "print(\"X_train_x_raw shape : {}\".format(X_train_x_raw.shape))\n",
        "print(\"X_test_x_raw shape : {}\".format(X_test_x_raw.shape))\n",
        "print(\"X_train_y_raw shape : {}\".format(X_train_y_raw.shape))\n",
        "print(\"X_test_y_raw shape : {}\".format(X_test_y_raw.shape))\n",
        "print(\"X_train_z_raw shape : {}\".format(X_train_z_raw.shape))\n",
        "print(\"X_test_z_raw shape : {}\".format(X_test_z_raw.shape))"
      ],
      "execution_count": null,
      "outputs": [
        {
          "output_type": "stream",
          "text": [
            "X_train_x_raw shape : (7351, 1)\n",
            "X_test_x_raw shape : (2946, 1)\n",
            "X_train_y_raw shape : (7351, 1)\n",
            "X_test_y_raw shape : (2946, 1)\n",
            "X_train_z_raw shape : (7351, 1)\n",
            "X_test_z_raw shape : (2946, 1)\n"
          ],
          "name": "stdout"
        }
      ]
    },
    {
      "cell_type": "code",
      "metadata": {
        "colab": {
          "base_uri": "https://localhost:8080/"
        },
        "id": "EEcXltafPFXz",
        "outputId": "c8f7dfad-ceda-4c90-f814-87392b645a02"
      },
      "source": [
        "#y_train = np.loadtxt('y_train.txt')\n",
        "#y_test = np.loadtxt('y_test.txt')\n",
        "# Previous two lines not used.  The label data is loaded directly from github above\n",
        "\n",
        "label_names = ['Walking', 'Walking upstairs', 'Walking downstairs', 'Sitting', 'Standing', 'Laying']\n",
        "\n",
        "print(y_train.shape)\n",
        "print(y_test.shape)"
      ],
      "execution_count": null,
      "outputs": [
        {
          "output_type": "stream",
          "text": [
            "(7351, 1)\n",
            "(2946, 1)\n"
          ],
          "name": "stdout"
        }
      ]
    },
    {
      "cell_type": "code",
      "metadata": {
        "id": "Qn5gaHcePK5Y"
      },
      "source": [
        "import scipy.stats as st\n",
        "from scipy.fftpack import fft, fftfreq \n",
        "from scipy.signal import argrelextrema\n",
        "import operator\n",
        "\n",
        "def stat_area_features(x, Te=1.0):\n",
        "\n",
        "    mean_ts = np.mean(x, axis=1).reshape(-1,1) # mean\n",
        "    max_ts = np.amax(x, axis=1).reshape(-1,1) # max\n",
        "    min_ts = np.amin(x, axis=1).reshape(-1,1) # min\n",
        "    std_ts = np.std(x, axis=1).reshape(-1,1) # std\n",
        "    skew_ts = st.skew(x, axis=1).reshape(-1,1) # skew\n",
        "    kurtosis_ts = st.kurtosis(x, axis=1).reshape(-1,1) # kurtosis \n",
        "    iqr_ts = st.iqr(x, axis=1).reshape(-1,1) # interquartile rante\n",
        "    mad_ts = np.median(np.sort(abs(x - np.median(x, axis=1).reshape(-1,1)),\n",
        "                               axis=1), axis=1).reshape(-1,1) # median absolute deviation\n",
        "    area_ts = np.trapz(x, axis=1, dx=Te).reshape(-1,1) # area under curve\n",
        "    sq_area_ts = np.trapz(x ** 2, axis=1, dx=Te).reshape(-1,1) # area under curve ** 2\n",
        "\n",
        "    return np.concatenate((mean_ts,max_ts,min_ts,std_ts,skew_ts,kurtosis_ts,\n",
        "                           iqr_ts,mad_ts,area_ts,sq_area_ts), axis=1)\n",
        "\n",
        "def frequency_domain_features(x, Te=1.0):\n",
        "\n",
        "    # As the DFT coefficients and their corresponding frequencies are symetrical arrays\n",
        "    # with respect to the middle of the array we need to know if the number of readings \n",
        "    # in x is even or odd to then split the arrays...\n",
        "    if x.shape[1]%2 == 0:\n",
        "        N = int(x.shape[1]/2)\n",
        "    else:\n",
        "        N = int(x.shape[1]/2) - 1\n",
        "    xf = np.repeat(fftfreq(x.shape[1],d=Te)[:N].reshape(1,-1), x.shape[0], axis=0) # frequencies\n",
        "    dft = np.abs(fft(x, axis=1))[:,:N] # DFT coefficients   \n",
        "    \n",
        "    # statistical and area features\n",
        "    dft_features = stat_area_features(dft, Te=1.0)\n",
        "    # weighted mean frequency\n",
        "    dft_weighted_mean_f = np.average(xf, axis=1, weights=dft).reshape(-1,1)\n",
        "    # 5 first DFT coefficients \n",
        "    dft_first_coef = dft[:,:5]    \n",
        "    # 5 first local maxima of DFT coefficients and their corresponding frequencies\n",
        "    dft_max_coef = np.zeros((x.shape[0],5))\n",
        "    dft_max_coef_f = np.zeros((x.shape[0],5))\n",
        "    for row in range(x.shape[0]):\n",
        "        # finds all local maximas indexes\n",
        "        extrema_ind = argrelextrema(dft[row,:], np.greater, axis=0) \n",
        "        # makes a list of tuples (DFT_i, f_i) of all the local maxima\n",
        "        # and keeps the 5 biggest...\n",
        "        extrema_row = sorted([(dft[row,:][j],xf[row,j]) for j in extrema_ind[0]],\n",
        "                             key=operator.itemgetter(0), reverse=True)[:5] \n",
        "        for i, ext in enumerate(extrema_row):\n",
        "            dft_max_coef[row,i] = ext[0]\n",
        "            dft_max_coef_f[row,i] = ext[1]    \n",
        "    \n",
        "    return np.concatenate((dft_features,dft_weighted_mean_f,dft_first_coef,\n",
        "                           dft_max_coef,dft_max_coef_f), axis=1)\n",
        "\n",
        "def make_feature_vector(x,y,z, Te=1.0):\n",
        "\n",
        "    # Raw signals :  stat and area features\n",
        "    features_xt = stat_area_features(x, Te=Te)\n",
        "    features_yt = stat_area_features(y, Te=Te)\n",
        "    features_zt = stat_area_features(z, Te=Te)\n",
        "    \n",
        "    # Jerk signals :  stat and area features\n",
        "    features_xt_jerk = int(stat_area_features((x[:,1:]-x[:,:-1])/Te, Te=Te))\n",
        "    features_yt_jerk = stat_area_features((y[:,1:]-y[:,:-1])/Te, Te=Te)\n",
        "    features_zt_jerk = stat_area_features((z[:,1:]-z[:,:-1])/Te, Te=Te) \n",
        "    \n",
        "    # Raw signals : frequency domain features \n",
        "    features_xf = frequency_domain_features(x, Te=1/Te)\n",
        "    features_yf = frequency_domain_features(y, Te=1/Te)\n",
        "    features_zf = frequency_domain_features(z, Te=1/Te)\n",
        "    \n",
        "    # Jerk signals : frequency domain features \n",
        "    features_xf_jerk = frequency_domain_features((x[:,1:]-x[:,:-1])/Te, Te=1/Te)\n",
        "    features_yf_jerk = frequency_domain_features((y[:,1:]-y[:,:-1])/Te, Te=1/Te)\n",
        "    features_zf_jerk = frequency_domain_features((z[:,1:]-z[:,:-1])/Te, Te=1/Te)\n",
        "    \n",
        "    # Raw signals correlation coefficient between axis\n",
        "    cor = np.empty((x.shape[0],3))\n",
        "    for row in range(x.shape[0]):\n",
        "        xyz_matrix = np.concatenate((x[row,:].reshape(1,-1),y[row,:].reshape(1,-1),\n",
        "                                     z[row,:].reshape(1,-1)), axis=0)\n",
        "        cor[row,0] = np.corrcoef(xyz_matrix)[0,1]\n",
        "        cor[row,1] = np.corrcoef(xyz_matrix)[0,2]\n",
        "        cor[row,2] = np.corrcoef(xyz_matrix)[1,2]\n",
        "    \n",
        "    return np.concatenate((features_xt, features_yt, features_zt,\n",
        "                           features_xt_jerk, features_yt_jerk, features_zt_jerk,\n",
        "                           features_xf, features_yf, features_zf,\n",
        "                           features_xf_jerk, features_yf_jerk, features_zf_jerk,\n",
        "                           cor), axis=1)"
      ],
      "execution_count": null,
      "outputs": []
    },
    {
      "cell_type": "code",
      "metadata": {
        "colab": {
          "base_uri": "https://localhost:8080/",
          "height": 408
        },
        "id": "KFZVRyaVPOs1",
        "outputId": "be41949b-c47f-41bc-f9a1-42397648e601"
      },
      "source": [
        "te_x = int(1/50)\n",
        "\n",
        "\n",
        "X_train = make_feature_vector(X_train_x_raw, X_train_y_raw, X_train_z_raw, Te=te_x)\n",
        "X_test = make_feature_vector(X_test_x_raw, X_test_y_raw, X_test_z_raw, Te=1/50)\n",
        "\n",
        "print(\"X_train shape : {}\".format(X_train.shape))\n",
        "print(\"X_test shape: {}\".format(X_test.shape))"
      ],
      "execution_count": null,
      "outputs": [
        {
          "output_type": "error",
          "ename": "TypeError",
          "evalue": "ignored",
          "traceback": [
            "\u001b[0;31m---------------------------------------------------------------------------\u001b[0m",
            "\u001b[0;31mTypeError\u001b[0m                                 Traceback (most recent call last)",
            "\u001b[0;32m<ipython-input-53-c11307c6d2f2>\u001b[0m in \u001b[0;36m<module>\u001b[0;34m()\u001b[0m\n\u001b[1;32m      2\u001b[0m \u001b[0;34m\u001b[0m\u001b[0m\n\u001b[1;32m      3\u001b[0m \u001b[0;34m\u001b[0m\u001b[0m\n\u001b[0;32m----> 4\u001b[0;31m \u001b[0mX_train\u001b[0m \u001b[0;34m=\u001b[0m \u001b[0mmake_feature_vector\u001b[0m\u001b[0;34m(\u001b[0m\u001b[0mX_train_x_raw\u001b[0m\u001b[0;34m,\u001b[0m \u001b[0mX_train_y_raw\u001b[0m\u001b[0;34m,\u001b[0m \u001b[0mX_train_z_raw\u001b[0m\u001b[0;34m,\u001b[0m \u001b[0mTe\u001b[0m\u001b[0;34m=\u001b[0m\u001b[0mte_x\u001b[0m\u001b[0;34m)\u001b[0m\u001b[0;34m\u001b[0m\u001b[0;34m\u001b[0m\u001b[0m\n\u001b[0m\u001b[1;32m      5\u001b[0m \u001b[0mX_test\u001b[0m \u001b[0;34m=\u001b[0m \u001b[0mmake_feature_vector\u001b[0m\u001b[0;34m(\u001b[0m\u001b[0mX_test_x_raw\u001b[0m\u001b[0;34m,\u001b[0m \u001b[0mX_test_y_raw\u001b[0m\u001b[0;34m,\u001b[0m \u001b[0mX_test_z_raw\u001b[0m\u001b[0;34m,\u001b[0m \u001b[0mTe\u001b[0m\u001b[0;34m=\u001b[0m\u001b[0;36m1\u001b[0m\u001b[0;34m/\u001b[0m\u001b[0;36m50\u001b[0m\u001b[0;34m)\u001b[0m\u001b[0;34m\u001b[0m\u001b[0;34m\u001b[0m\u001b[0m\n\u001b[1;32m      6\u001b[0m \u001b[0;34m\u001b[0m\u001b[0m\n",
            "\u001b[0;32m<ipython-input-52-98124d0e046a>\u001b[0m in \u001b[0;36mmake_feature_vector\u001b[0;34m(x, y, z, Te)\u001b[0m\n\u001b[1;32m     59\u001b[0m \u001b[0;34m\u001b[0m\u001b[0m\n\u001b[1;32m     60\u001b[0m     \u001b[0;31m# Raw signals :  stat and area features\u001b[0m\u001b[0;34m\u001b[0m\u001b[0;34m\u001b[0m\u001b[0;34m\u001b[0m\u001b[0m\n\u001b[0;32m---> 61\u001b[0;31m     \u001b[0mfeatures_xt\u001b[0m \u001b[0;34m=\u001b[0m \u001b[0mstat_area_features\u001b[0m\u001b[0;34m(\u001b[0m\u001b[0mx\u001b[0m\u001b[0;34m,\u001b[0m \u001b[0mTe\u001b[0m\u001b[0;34m=\u001b[0m\u001b[0mTe\u001b[0m\u001b[0;34m)\u001b[0m\u001b[0;34m\u001b[0m\u001b[0;34m\u001b[0m\u001b[0m\n\u001b[0m\u001b[1;32m     62\u001b[0m     \u001b[0mfeatures_yt\u001b[0m \u001b[0;34m=\u001b[0m \u001b[0mstat_area_features\u001b[0m\u001b[0;34m(\u001b[0m\u001b[0my\u001b[0m\u001b[0;34m,\u001b[0m \u001b[0mTe\u001b[0m\u001b[0;34m=\u001b[0m\u001b[0mTe\u001b[0m\u001b[0;34m)\u001b[0m\u001b[0;34m\u001b[0m\u001b[0;34m\u001b[0m\u001b[0m\n\u001b[1;32m     63\u001b[0m     \u001b[0mfeatures_zt\u001b[0m \u001b[0;34m=\u001b[0m \u001b[0mstat_area_features\u001b[0m\u001b[0;34m(\u001b[0m\u001b[0mz\u001b[0m\u001b[0;34m,\u001b[0m \u001b[0mTe\u001b[0m\u001b[0;34m=\u001b[0m\u001b[0mTe\u001b[0m\u001b[0;34m)\u001b[0m\u001b[0;34m\u001b[0m\u001b[0;34m\u001b[0m\u001b[0m\n",
            "\u001b[0;32m<ipython-input-52-98124d0e046a>\u001b[0m in \u001b[0;36mstat_area_features\u001b[0;34m(x, Te)\u001b[0m\n\u001b[1;32m      6\u001b[0m \u001b[0;32mdef\u001b[0m \u001b[0mstat_area_features\u001b[0m\u001b[0;34m(\u001b[0m\u001b[0mx\u001b[0m\u001b[0;34m,\u001b[0m \u001b[0mTe\u001b[0m\u001b[0;34m=\u001b[0m\u001b[0;36m1.0\u001b[0m\u001b[0;34m)\u001b[0m\u001b[0;34m:\u001b[0m\u001b[0;34m\u001b[0m\u001b[0;34m\u001b[0m\u001b[0m\n\u001b[1;32m      7\u001b[0m \u001b[0;34m\u001b[0m\u001b[0m\n\u001b[0;32m----> 8\u001b[0;31m     \u001b[0mmean_ts\u001b[0m \u001b[0;34m=\u001b[0m \u001b[0mnp\u001b[0m\u001b[0;34m.\u001b[0m\u001b[0mmean\u001b[0m\u001b[0;34m(\u001b[0m\u001b[0mx\u001b[0m\u001b[0;34m,\u001b[0m \u001b[0maxis\u001b[0m\u001b[0;34m=\u001b[0m\u001b[0;36m1\u001b[0m\u001b[0;34m)\u001b[0m\u001b[0;34m.\u001b[0m\u001b[0mreshape\u001b[0m\u001b[0;34m(\u001b[0m\u001b[0;34m-\u001b[0m\u001b[0;36m1\u001b[0m\u001b[0;34m,\u001b[0m\u001b[0;36m1\u001b[0m\u001b[0;34m)\u001b[0m \u001b[0;31m# mean\u001b[0m\u001b[0;34m\u001b[0m\u001b[0;34m\u001b[0m\u001b[0m\n\u001b[0m\u001b[1;32m      9\u001b[0m     \u001b[0mmax_ts\u001b[0m \u001b[0;34m=\u001b[0m \u001b[0mnp\u001b[0m\u001b[0;34m.\u001b[0m\u001b[0mamax\u001b[0m\u001b[0;34m(\u001b[0m\u001b[0mx\u001b[0m\u001b[0;34m,\u001b[0m \u001b[0maxis\u001b[0m\u001b[0;34m=\u001b[0m\u001b[0;36m1\u001b[0m\u001b[0;34m)\u001b[0m\u001b[0;34m.\u001b[0m\u001b[0mreshape\u001b[0m\u001b[0;34m(\u001b[0m\u001b[0;34m-\u001b[0m\u001b[0;36m1\u001b[0m\u001b[0;34m,\u001b[0m\u001b[0;36m1\u001b[0m\u001b[0;34m)\u001b[0m \u001b[0;31m# max\u001b[0m\u001b[0;34m\u001b[0m\u001b[0;34m\u001b[0m\u001b[0m\n\u001b[1;32m     10\u001b[0m     \u001b[0mmin_ts\u001b[0m \u001b[0;34m=\u001b[0m \u001b[0mnp\u001b[0m\u001b[0;34m.\u001b[0m\u001b[0mamin\u001b[0m\u001b[0;34m(\u001b[0m\u001b[0mx\u001b[0m\u001b[0;34m,\u001b[0m \u001b[0maxis\u001b[0m\u001b[0;34m=\u001b[0m\u001b[0;36m1\u001b[0m\u001b[0;34m)\u001b[0m\u001b[0;34m.\u001b[0m\u001b[0mreshape\u001b[0m\u001b[0;34m(\u001b[0m\u001b[0;34m-\u001b[0m\u001b[0;36m1\u001b[0m\u001b[0;34m,\u001b[0m\u001b[0;36m1\u001b[0m\u001b[0;34m)\u001b[0m \u001b[0;31m# min\u001b[0m\u001b[0;34m\u001b[0m\u001b[0;34m\u001b[0m\u001b[0m\n",
            "\u001b[0;32m<__array_function__ internals>\u001b[0m in \u001b[0;36mmean\u001b[0;34m(*args, **kwargs)\u001b[0m\n",
            "\u001b[0;32m/usr/local/lib/python3.7/dist-packages/numpy/core/fromnumeric.py\u001b[0m in \u001b[0;36mmean\u001b[0;34m(a, axis, dtype, out, keepdims)\u001b[0m\n\u001b[1;32m   3371\u001b[0m \u001b[0;34m\u001b[0m\u001b[0m\n\u001b[1;32m   3372\u001b[0m     return _methods._mean(a, axis=axis, dtype=dtype,\n\u001b[0;32m-> 3373\u001b[0;31m                           out=out, **kwargs)\n\u001b[0m\u001b[1;32m   3374\u001b[0m \u001b[0;34m\u001b[0m\u001b[0m\n\u001b[1;32m   3375\u001b[0m \u001b[0;34m\u001b[0m\u001b[0m\n",
            "\u001b[0;32m/usr/local/lib/python3.7/dist-packages/numpy/core/_methods.py\u001b[0m in \u001b[0;36m_mean\u001b[0;34m(a, axis, dtype, out, keepdims)\u001b[0m\n\u001b[1;32m    161\u001b[0m     \u001b[0;32mif\u001b[0m \u001b[0misinstance\u001b[0m\u001b[0;34m(\u001b[0m\u001b[0mret\u001b[0m\u001b[0;34m,\u001b[0m \u001b[0mmu\u001b[0m\u001b[0;34m.\u001b[0m\u001b[0mndarray\u001b[0m\u001b[0;34m)\u001b[0m\u001b[0;34m:\u001b[0m\u001b[0;34m\u001b[0m\u001b[0;34m\u001b[0m\u001b[0m\n\u001b[1;32m    162\u001b[0m         ret = um.true_divide(\n\u001b[0;32m--> 163\u001b[0;31m                 ret, rcount, out=ret, casting='unsafe', subok=False)\n\u001b[0m\u001b[1;32m    164\u001b[0m         \u001b[0;32mif\u001b[0m \u001b[0mis_float16_result\u001b[0m \u001b[0;32mand\u001b[0m \u001b[0mout\u001b[0m \u001b[0;32mis\u001b[0m \u001b[0;32mNone\u001b[0m\u001b[0;34m:\u001b[0m\u001b[0;34m\u001b[0m\u001b[0;34m\u001b[0m\u001b[0m\n\u001b[1;32m    165\u001b[0m             \u001b[0mret\u001b[0m \u001b[0;34m=\u001b[0m \u001b[0marr\u001b[0m\u001b[0;34m.\u001b[0m\u001b[0mdtype\u001b[0m\u001b[0;34m.\u001b[0m\u001b[0mtype\u001b[0m\u001b[0;34m(\u001b[0m\u001b[0mret\u001b[0m\u001b[0;34m)\u001b[0m\u001b[0;34m\u001b[0m\u001b[0;34m\u001b[0m\u001b[0m\n",
            "\u001b[0;31mTypeError\u001b[0m: unsupported operand type(s) for /: 'str' and 'int'"
          ]
        }
      ]
    },
    {
      "cell_type": "code",
      "metadata": {
        "colab": {
          "base_uri": "https://localhost:8080/",
          "height": 214
        },
        "id": "cyH_vR2XPRR0",
        "outputId": "462063e2-c471-4188-ad1b-4ed465190794"
      },
      "source": [
        "\n",
        "scaler = preprocessing.StandardScaler().fit(X_train)\n",
        "X_train = scaler.transform(X_train) \n",
        "X_test = scaler.transform(X_test)"
      ],
      "execution_count": null,
      "outputs": [
        {
          "output_type": "error",
          "ename": "NameError",
          "evalue": "ignored",
          "traceback": [
            "\u001b[0;31m---------------------------------------------------------------------------\u001b[0m",
            "\u001b[0;31mNameError\u001b[0m                                 Traceback (most recent call last)",
            "\u001b[0;32m<ipython-input-50-528797586afc>\u001b[0m in \u001b[0;36m<module>\u001b[0;34m()\u001b[0m\n\u001b[1;32m      1\u001b[0m \u001b[0;34m\u001b[0m\u001b[0m\n\u001b[0;32m----> 2\u001b[0;31m \u001b[0mscaler\u001b[0m \u001b[0;34m=\u001b[0m \u001b[0mpreprocessing\u001b[0m\u001b[0;34m.\u001b[0m\u001b[0mStandardScaler\u001b[0m\u001b[0;34m(\u001b[0m\u001b[0;34m)\u001b[0m\u001b[0;34m.\u001b[0m\u001b[0mfit\u001b[0m\u001b[0;34m(\u001b[0m\u001b[0mX_train\u001b[0m\u001b[0;34m)\u001b[0m\u001b[0;34m\u001b[0m\u001b[0;34m\u001b[0m\u001b[0m\n\u001b[0m\u001b[1;32m      3\u001b[0m \u001b[0mX_train\u001b[0m \u001b[0;34m=\u001b[0m \u001b[0mscaler\u001b[0m\u001b[0;34m.\u001b[0m\u001b[0mtransform\u001b[0m\u001b[0;34m(\u001b[0m\u001b[0mX_train\u001b[0m\u001b[0;34m)\u001b[0m\u001b[0;34m\u001b[0m\u001b[0;34m\u001b[0m\u001b[0m\n\u001b[1;32m      4\u001b[0m \u001b[0mX_test\u001b[0m \u001b[0;34m=\u001b[0m \u001b[0mscaler\u001b[0m\u001b[0;34m.\u001b[0m\u001b[0mtransform\u001b[0m\u001b[0;34m(\u001b[0m\u001b[0mX_test\u001b[0m\u001b[0;34m)\u001b[0m\u001b[0;34m\u001b[0m\u001b[0;34m\u001b[0m\u001b[0m\n",
            "\u001b[0;31mNameError\u001b[0m: name 'X_train' is not defined"
          ]
        }
      ]
    },
    {
      "cell_type": "code",
      "metadata": {
        "id": "VpO9BUCxPT43"
      },
      "source": [
        "\n",
        "def hyperparameters_opt_RBF(X_train, y_train, X_test, y_test,\n",
        "                            param_range_C, param_range_gamma):\n",
        "\n",
        "    accuracy_matrix = np.zeros((param_range_C.shape[0],param_range_gamma.shape[0]))\n",
        "    for i,C in enumerate(param_range_C):\n",
        "        for j,gamma in enumerate(param_range_gamma):\n",
        "            clf_r_l = svm.SVC(kernel='rbf', C=C, gamma=gamma)\n",
        "            clf_r_l.fit(X_train, y_train)\n",
        "            accuracy_matrix[i,j] = f1_score(y_test ,clf_r_l.predict(X_test), average='macro')\n",
        "    C_ind, gamma_ind = np.unravel_index(np.argmax(accuracy_matrix), accuracy_matrix.shape)\n",
        "\n",
        "    return param_range_C[C_ind], param_range_gamma[gamma_ind]"
      ],
      "execution_count": null,
      "outputs": []
    },
    {
      "cell_type": "code",
      "metadata": {
        "id": "xtUGiN8sPbkQ"
      },
      "source": [
        "# C and gamma test range\n",
        "param_range = np.array([0.01, 0.1, 1, 10, 100, 1000])\n",
        "# Optimizing C and gamma parameters to achieve the best f1 score \n",
        "C, gamma = hyperparameters_opt_RBF(X_train, y_train, X_test, y_test, param_range, param_range)\n",
        "\n",
        "print(\"Hyperparameters optimization results:\")\n",
        "print(\"C: {}\".format(C))\n",
        "print(\"gamma: {}\".format(gamma))\n",
        "print(\"\\n\")\n",
        "\n",
        "# Training the model with the optimized hyperparameters\n",
        "clf_r_l = svm.SVC(kernel='rbf', C=C, gamma=gamma)\n",
        "clf_r_l.fit(X_train, y_train)\n",
        "y_pred_tr = clf_r_l.predict(X_train)\n",
        "y_pred_te = clf_r_l.predict(X_test)\n",
        "\n",
        "print('Training set report')\n",
        "print(classification_report(y_train, y_pred_tr, target_names=label_names))\n",
        "print('Test set report')\n",
        "print(classification_report(y_test, y_pred_te, target_names=label_names))\n",
        "\n",
        "plt.figure(1)\n",
        "pcm.plot_confusion_matrix(confusion_matrix(y_train, y_pred_tr), label_names)\n",
        "plt.figure(2)\n",
        "pcm.plot_confusion_matrix(confusion_matrix(y_test, y_pred_te), label_names)\n",
        "plt.show()"
      ],
      "execution_count": null,
      "outputs": []
    },
    {
      "cell_type": "code",
      "metadata": {
        "colab": {
          "base_uri": "https://localhost:8080/",
          "height": 34
        },
        "id": "4-3u0ChOPcOq",
        "outputId": "2e6cf7be-53fd-4b67-bbe1-63c7f3171aea"
      },
      "source": [
        "\n",
        "from IPython.display import Image\n",
        "Image('images/svm_train.png')"
      ],
      "execution_count": null,
      "outputs": [
        {
          "output_type": "execute_result",
          "data": {
            "image/png": "images/svm_train.png",
            "text/plain": [
              "<IPython.core.display.Image object>"
            ]
          },
          "metadata": {
            "tags": []
          },
          "execution_count": 48
        }
      ]
    },
    {
      "cell_type": "code",
      "metadata": {
        "colab": {
          "base_uri": "https://localhost:8080/",
          "height": 34
        },
        "id": "ozMGbxLrPel0",
        "outputId": "26aae06d-0766-40ab-b0bb-91eb7be26389"
      },
      "source": [
        "\n",
        "Image('images/svm_test.png')"
      ],
      "execution_count": null,
      "outputs": [
        {
          "output_type": "execute_result",
          "data": {
            "image/png": "images/svm_test.png",
            "text/plain": [
              "<IPython.core.display.Image object>"
            ]
          },
          "metadata": {
            "tags": []
          },
          "execution_count": 49
        }
      ]
    }
  ]
}