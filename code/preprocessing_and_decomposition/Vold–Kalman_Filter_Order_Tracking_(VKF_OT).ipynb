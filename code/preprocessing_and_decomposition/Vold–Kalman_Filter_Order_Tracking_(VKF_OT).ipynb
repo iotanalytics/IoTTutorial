{
  "nbformat": 4,
  "nbformat_minor": 0,
  "metadata": {
    "colab": {
      "name": "Vold–Kalman Filter Order Tracking (VKF_OT).ipynb",
      "provenance": [],
      "authorship_tag": "ABX9TyM8okpPnFXGBo/EuKrL1LKq",
      "include_colab_link": true
    },
    "kernelspec": {
      "name": "python3",
      "display_name": "Python 3"
    },
    "language_info": {
      "name": "python"
    }
  },
  "cells": [
    {
      "cell_type": "markdown",
      "metadata": {
        "id": "view-in-github",
        "colab_type": "text"
      },
      "source": [
        "<a href=\"https://colab.research.google.com/github/iotanalytics/IoTTutorial/blob/main/code/preprocessing_and_decomposition/Vold%E2%80%93Kalman_Filter_Order_Tracking_(VKF_OT).ipynb\" target=\"_parent\"><img src=\"https://colab.research.google.com/assets/colab-badge.svg\" alt=\"Open In Colab\"/></a>"
      ]
    },
    {
      "cell_type": "markdown",
      "metadata": {
        "id": "ebZF7JTiZkHw"
      },
      "source": [
        "## Vold–Kalman Filter Order Tracking (VKF_OT)"
      ]
    },
    {
      "cell_type": "markdown",
      "metadata": {
        "id": "_n7tCR5KAFY1"
      },
      "source": [
        "## Introduction\n",
        "\n",
        "In rotordynamics, order tracking is a family of signal processing tools aimed at transforming a measured signal from time domain to angular (or order) domain. These techniques are applied to asynchronously sampled signals (i.e. with a constant sample rate in Hertz) to obtain the same signal sampled at constant angular increments of a reference shaft. In some cases the outcome of the Order Tracking is directly the Fourier transform of such angular domain signal, whose frequency counterpart is defined as \"order\". Each order represents a fraction of the angular velocity of the reference shaft.\n",
        "\n",
        "Order tracking is based on a velocity measurement, generally obtained by means of a tachometer or encoder, needed to estimate the instantaneous velocity and/or the angular position of the shaft.\n",
        "\n",
        "Vold-Kalman filter is a particular formulation of Kalman filter, able to estimate both instantaneous speed and amplitude of a series of harmonics of the shaft rotational velocity.\n",
        "\n",
        "The Vold–Kalman order tracking flter plays a vital role in the order analysis of noise in various felds. Using the Python Arbitrary-Precision Arithmetic Library, it has been shown (Ge, 2019) that the Vold-Kalman order tracking filter can be used in the following applications:\n",
        "\n",
        "* Extraction of signal from background white noise\n",
        "\n",
        "* Extraction of a multi-component signal from background white noise\n",
        "\n",
        "* Extraction of a real measurement signal from noisy or multi-component data\n",
        "\n",
        "The filter is very powerful in that it supports estimations of past, present, and even future states, and it can do so even\n",
        "when the precise nature of the modeled system is unknown.\n"
      ]
    },
    {
      "cell_type": "code",
      "metadata": {
        "id": "TTYPgCfcAC8i"
      },
      "source": [
        ""
      ],
      "execution_count": null,
      "outputs": []
    },
    {
      "cell_type": "markdown",
      "metadata": {
        "id": "8TwZg0rgAdlB"
      },
      "source": [
        "## Discussion\n",
        "\n",
        "\n",
        "Pros:\n",
        "\n",
        "* Allows the high-performance tracking of harmonic responses or orders, and allowing the beat-free extraction of close and crossing orders\n",
        "\n",
        "* Compared to other popular order tracking methods, Vold-Kalman Filter order tracking captures much shorter transients with no phase bias or slew rate limitations\n",
        "\n",
        "* Unlike with other methods, the time signal corresponding to a specific order can be extracted from the raw data, with its amplitude and phase.\n",
        "\n",
        "Cons:\n",
        "\n",
        "* Due to the possible non-stationary character of rotational speed in rotating machines, the resultant complex carrier wave could be  non-stationary and therefore the filtered order will retain its non-stationary nature\n",
        "\n",
        "* The order components extracted from the Vold-Kalman filter are smooth and harmonic waves, but they may be non-stationary \n",
        "\n",
        "* The Vold-Kalman filter enforces the smoothness as\n",
        "well as the harmonic nature of the filtered data. The harmonic nature does not, however, ensure a stationary harmonic wave.\n"
      ]
    },
    {
      "cell_type": "markdown",
      "metadata": {
        "id": "nN0ZWHRxAk78"
      },
      "source": [
        "## Reference\n",
        "\n",
        "\n",
        "H. Vold, J. Leuridan, High resolution order tracking using Kalman tracking filters-theory and applications, SAE Paper No. 951332, 1995.\n",
        "\n",
        "Ge, Linhe, et al. \"Numerical Implementation of High-Order Vold–Kalman Filter Using Python Arbitrary-Precision Arithmetic Library.\" Automotive Innovation 2.3 (2019): 178-189.\n",
        "\n",
        "Wang, K. S., and Philippus Stephanus Heyns. \"The combined use of order tracking techniques for enhanced Fourier analysis of order components.\" Mechanical systems and signal processing 25.3 (2011): 803-811."
      ]
    },
    {
      "cell_type": "code",
      "metadata": {
        "id": "VULPPZ9_AxN5"
      },
      "source": [
        ""
      ],
      "execution_count": null,
      "outputs": []
    }
  ]
}