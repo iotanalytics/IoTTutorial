{
  "nbformat": 4,
  "nbformat_minor": 0,
  "metadata": {
    "colab": {
      "name": "Principal Component Analysis (PCA).ipynb",
      "provenance": [],
      "collapsed_sections": []
    },
    "kernelspec": {
      "name": "python3",
      "display_name": "Python 3"
    },
    "language_info": {
      "name": "python"
    }
  },
  "cells": [
    {
      "cell_type": "markdown",
      "metadata": {
        "id": "U4EOaNWe_icq"
      },
      "source": [
        "# Principal Component Analysis (PCA)\n"
      ]
    },
    {
      "cell_type": "markdown",
      "metadata": {
        "id": "UaxuMxp-ATnF"
      },
      "source": [
        "## Introduction\n",
        "https://jakevdp.github.io/PythonDataScienceHandbook/05.09-principal-component-analysis.html\n",
        "\n",
        "Dimensionality Reduction using PCA on multivariate timeseries data: https://medium.com/@ansjin/dimensionality-reduction-using-pca-on-multivariate-timeseries-data-b5cc07238dc4\n",
        "\n",
        "Principal Components Analysis of a set of stocks price data http://slendermeans.org/ml4h-ch8.html\n",
        "\n",
        "SSA (Singular Spectrum Analysis) versus PCA (Principal Component Analysis)\n",
        "\n",
        "http://karthur.org/2017/learning-for-time-series-ssa-vs-pca.html You should immediately notice one similarity between PCA and SSA. They both can be computed through either a spectral decomposition of a covariance matrix or through an SVD of the data matrix, taking careful note that the data matrix in SSA is the trajectory matrix for a single time series record.\n",
        "\n",
        "Elsner and Tsonis (1996) claim that aside from the difference between the composition of X, i.e., between the trajectory matrix (containing lagged windows of a univariate time series) in SSA and the data matrix of PCA (containing multivariate time series records), \"there is no difference between the expansion [of the data set] used in classical PCA and the expansion [of the data set] in SSA.\" More specifically, PCA can be defined as the spectral decomposition of the covariance matrix XTX whereas SSA can be defined as the spectral decomposition of the (normalized) lagged-covariance matrix, which is also designated XTX; however, in PCA, X is the data matrix while in SSA X is the trajectory matrix.\n",
        "\n",
        "The difference between the structure of the matrix X in PCA versus SSA is precisely what contributes to their different behaviors.\n",
        "\n",
        "In PCA, the matrix consists of a single variable observed at multiple locations (a multivariate time series dataset, where the variables are different spatial locations) and the resuling components are termed spatial principal components [3]. In SSA, the matrix consists of a single time series (a single variable observed in a single location) \"observed\" at different time windows; the resulting components derived through SSA could be termed temporal principal components.\n",
        "\n",
        "In the digital signal processing community, PCA (as a spectral decomposition of the correlation, not covariance, matrix) is also known as Karhunen–Loève (K-L) expansion.\n",
        "\n",
        "1. Removes Correlated Features:\n",
        "\n",
        "In a real-world scenario, this is very common that you get thousands of features in your dataset. You cannot run your algorithm on all the features as it will reduce the performance of your algorithm and it will not be easy to visualize that many features in any kind of graph. So, you MUST reduce the number of features in your dataset.\n",
        "\n",
        "You need to find out the correlation among the features (correlated variables). Finding correlation manually in thousands of features is nearly impossible, frustrating and time-consuming. PCA does this for you efficiently.\n",
        "\n",
        "After implementing the PCA on your dataset, all the Principal Components are independent of one another. There is no correlation among them.\n",
        "\n",
        "2. Improves Algorithm Performance: \n",
        "\n",
        "With so many features, the performance of your algorithm will drastically degrade. PCA is a very common way to speed up your Machine Learning algorithm by getting rid of correlated variables which don’t contribute in any decision making. The training time of the algorithms reduces significantly with less number of features.\n",
        "\n",
        "So, if the input dimensions are too high, then using PCA to speed up the algorithm is a reasonable choice.\n",
        "\n",
        "3. Reduces Overfitting: \n",
        "\n",
        "Overfitting mainly occurs when there are too many variables in the dataset. So, PCA helps in overcoming the overfitting issue by reducing the number of features.\n",
        "\n",
        "4. Improves Visualization: \n",
        "\n",
        "It is very hard to visualize and understand the data in high dimensions. PCA transforms a high dimensional data to low dimensional data (2 dimension) so that it can be visualized easily.\n",
        "\n",
        "We can use 2D Scree Plot to see which Principal Components result in high variance and have more impact as compared to other Principal Components.\n",
        "\n",
        "Even the simplest IRIS dataset is 4 dimensional which is hard to visualize. We can use PCA to reduce it to 2-dimension for better visualization.\n",
        "\n",
        "https://www.i2tutorials.com/what-are-the-pros-and-cons-of-the-pca/"
      ]
    },
    {
      "cell_type": "markdown",
      "metadata": {
        "id": "Jt4d3LtEAWzP"
      },
      "source": [
        "##Code Example"
      ]
    },
    {
      "cell_type": "code",
      "metadata": {
        "id": "Zx_dDx9xAsqQ"
      },
      "source": [
        "%matplotlib inline\n",
        "import numpy as np\n",
        "import matplotlib.pyplot as plt\n",
        "import seaborn as sns; sns.set()\n",
        "from sklearn.decomposition import PCA\n",
        "from sklearn.datasets import load_digits\n",
        "import pandas as pd\n",
        "\n"
      ],
      "execution_count": null,
      "outputs": []
    },
    {
      "cell_type": "code",
      "metadata": {
        "id": "BLFYO1_VArOD"
      },
      "source": [
        "## example data importing\n",
        "data = pd.read_csv('https://raw.githubusercontent.com/iotanalytics/IoTTutorial/main/data/SCG_data.csv').drop('Unnamed: 0',1).to_numpy()"
      ],
      "execution_count": null,
      "outputs": []
    },
    {
      "cell_type": "code",
      "metadata": {
        "colab": {
          "base_uri": "https://localhost:8080/",
          "height": 323
        },
        "id": "ZL4lS_bz_hAs",
        "outputId": "569d3214-e89f-4408-95df-6fb2d2a55423"
      },
      "source": [
        "# digits = load_digits()\n",
        "data_scg = data[:,:1000]\n",
        "print(data_scg.shape)\n",
        "data_label = data[:,-2]\n",
        "pca = PCA(2)  # project from 1000 to 2 dimensions\n",
        "projected = pca.fit_transform(data_scg)\n",
        "print(projected.shape)\n",
        "\n",
        "plt.scatter(projected[:, 0], projected[:, 1],\n",
        "            c=data_label, edgecolor='none', alpha=0.5,\n",
        "            cmap=plt.cm.get_cmap('Spectral', 10))\n",
        "plt.xlabel('component 1')\n",
        "plt.ylabel('component 2')\n",
        "plt.colorbar();"
      ],
      "execution_count": null,
      "outputs": [
        {
          "output_type": "stream",
          "text": [
            "(500, 1000)\n",
            "(500, 2)\n"
          ],
          "name": "stdout"
        },
        {
          "output_type": "display_data",
          "data": {
            "image/png": "[encoded data removed]",
            "text/plain": [
              "<Figure size 432x288 with 2 Axes>"
            ]
          },
          "metadata": {
            "tags": []
          }
        }
      ]
    },
    {
      "cell_type": "markdown",
      "metadata": {
        "id": "DivylEBzQYm-"
      },
      "source": [
        "##Discussion\n",
        "###Pros:\n",
        "####(1) It only needs variance to measure the amount of information.\n",
        "####(2) The principal components are orthogonal. Preserve no mutual influence between the original data components.\n",
        "####(3)The calculation is simple, and the main operation is eigenvalue decomposition, which is easy to implement.\n",
        "###Cons:\n",
        "####(1) Potential information loss.\n",
        "####(2) Result suffers from outliers since using SVD decomposition.\n",
        "####(3) Each principal component is could be not explanable in the real world."
      ]
    },
    {
      "cell_type": "code",
      "metadata": {
        "id": "r8RA6Kz2aFPi"
      },
      "source": [
        ""
      ],
      "execution_count": null,
      "outputs": []
    }
  ]
}