{
  "nbformat": 4,
  "nbformat_minor": 0,
  "metadata": {
    "colab": {
      "name": "Kmeans.ipynb",
      "provenance": [],
      "authorship_tag": "ABX9TyMHUQvzm456LaYQtOX6gzTZ",
      "include_colab_link": true
    },
    "kernelspec": {
      "name": "python3",
      "display_name": "Python 3"
    },
    "language_info": {
      "name": "python"
    }
  },
  "cells": [
    {
      "cell_type": "markdown",
      "metadata": {
        "id": "view-in-github",
        "colab_type": "text"
      },
      "source": [
        "<a href=\"https://colab.research.google.com/github/iotanalytics/IoTTutorial/blob/main/IoTTutorial/code/clustering_and_classification/Kmeans.ipynb\" target=\"_parent\"><img src=\"https://colab.research.google.com/assets/colab-badge.svg\" alt=\"Open In Colab\"/></a>"
      ]
    },
    {
      "cell_type": "markdown",
      "metadata": {
        "id": "bhQAjz6WWuf-"
      },
      "source": [
        "###K-means [Unsupervised]\n",
        "\n",
        "*Author: Soumya Pal*\n",
        "\n",
        "<br/>\n",
        "\n",
        "k-means algorithm is an iterative algorithm that tries to partition the dataset into K pre-defined distinct non-overlapping subgroups (clusters) where each data point belongs to only one group. It tries to make the intra-cluster data points as similar as possible while also keeping the clusters as different (far) as possible. It assigns data points to a cluster such that the sum of the squared distance between the data points and the cluster’s centroid (arithmetic mean of all the data points that belong to that cluster) is at the minimum. \n",
        "\n",
        "Pros:\n",
        "*   Simple: It is easy to implement k-means and identify unknown groups of data from complex data sets.\n",
        "*   Flexible: K-means algorithm can easily adjust to the changes. If there are any problems, adjusting the cluster segment will allow changes to easily occur on the algorithm.\n",
        "*   Suitable in a large dataset: K-means is suitable for a large number of datasets and it’s computed much faster than the smaller dataset.\n",
        "*   Efficient: The algorithm used is good at segmenting the large data set. Its efficiency depends on the shape of the clusters. K-means work well in hyper-spherical clusters.\n",
        "*   Easy to interpret: The results are easy to interpret. It generates cluster descriptions in a form minimized to ease understanding of the data.\n",
        "\n",
        "Cons:\n",
        "*   No-optimal set of clusters: K-means doesn’t allow development of an optimal set of clusters and for effective results, clusters has to be decided beforehand.\n",
        "*   Handle numerical data: K-means algorithm can be performed on numerical data only.\n",
        "*   Lacks consistency: K-means clustering gives varying results on different runs of an algorithm. A random choice of cluster patterns yields different clustering results resulting in inconsistency.\n",
        "*   Sensitivity to scale: Changing or rescaling the dataset either through normalization or standardization will completely change the final results."
      ]
    },
    {
      "cell_type": "code",
      "metadata": {
        "colab": {
          "base_uri": "https://localhost:8080/"
        },
        "id": "o1qC6TrUXCHP",
        "outputId": "de9d95f0-91a9-4a82-acb7-f305b0f53205"
      },
      "source": [
        "!pip install influxdb"
      ],
      "execution_count": 4,
      "outputs": [
        {
          "output_type": "stream",
          "text": [
            "Collecting influxdb\n",
            "  Downloading influxdb-5.3.1-py2.py3-none-any.whl (77 kB)\n",
            "\u001b[?25l\r\u001b[K     |████▏                           | 10 kB 16.5 MB/s eta 0:00:01\r\u001b[K     |████████▍                       | 20 kB 22.2 MB/s eta 0:00:01\r\u001b[K     |████████████▋                   | 30 kB 14.2 MB/s eta 0:00:01\r\u001b[K     |████████████████▉               | 40 kB 10.6 MB/s eta 0:00:01\r\u001b[K     |█████████████████████           | 51 kB 4.8 MB/s eta 0:00:01\r\u001b[K     |█████████████████████████▎      | 61 kB 5.1 MB/s eta 0:00:01\r\u001b[K     |█████████████████████████████▍  | 71 kB 4.9 MB/s eta 0:00:01\r\u001b[K     |████████████████████████████████| 77 kB 2.9 MB/s \n",
            "\u001b[?25hRequirement already satisfied: requests>=2.17.0 in /usr/local/lib/python3.7/dist-packages (from influxdb) (2.23.0)\n",
            "Requirement already satisfied: pytz in /usr/local/lib/python3.7/dist-packages (from influxdb) (2018.9)\n",
            "Requirement already satisfied: six>=1.10.0 in /usr/local/lib/python3.7/dist-packages (from influxdb) (1.15.0)\n",
            "Requirement already satisfied: python-dateutil>=2.6.0 in /usr/local/lib/python3.7/dist-packages (from influxdb) (2.8.2)\n",
            "Requirement already satisfied: msgpack in /usr/local/lib/python3.7/dist-packages (from influxdb) (1.0.2)\n",
            "Requirement already satisfied: urllib3!=1.25.0,!=1.25.1,<1.26,>=1.21.1 in /usr/local/lib/python3.7/dist-packages (from requests>=2.17.0->influxdb) (1.24.3)\n",
            "Requirement already satisfied: idna<3,>=2.5 in /usr/local/lib/python3.7/dist-packages (from requests>=2.17.0->influxdb) (2.10)\n",
            "Requirement already satisfied: chardet<4,>=3.0.2 in /usr/local/lib/python3.7/dist-packages (from requests>=2.17.0->influxdb) (3.0.4)\n",
            "Requirement already satisfied: certifi>=2017.4.17 in /usr/local/lib/python3.7/dist-packages (from requests>=2.17.0->influxdb) (2021.5.30)\n",
            "Installing collected packages: influxdb\n",
            "Successfully installed influxdb-5.3.1\n"
          ],
          "name": "stdout"
        }
      ]
    },
    {
      "cell_type": "code",
      "metadata": {
        "colab": {
          "base_uri": "https://localhost:8080/",
          "height": 1000
        },
        "id": "rkMbhLN_WgSD",
        "outputId": "69b8531c-2f56-42c1-be4e-f13db6a99470"
      },
      "source": [
        "import operator\n",
        "import numpy as np\n",
        "import matplotlib.pyplot as plt\n",
        "from influxdb import InfluxDBClient\n",
        "import pandas as pd\n",
        "from sklearn.cluster import KMeans\n",
        "from datetime import datetime\n",
        "from matplotlib.colors import ListedColormap\n",
        "from sklearn import neighbors, datasets\n",
        "\n",
        "ip_addr = \"sensorweb.us\"\n",
        "user_name = \"test\"\n",
        "user_pwd = \"sensorweb\"\n",
        "db_name = \"waveform\"\n",
        "\n",
        "client = InfluxDBClient(host=ip_addr, port=8086, username=user_name, password=user_pwd, database=db_name, ssl=True)\n",
        "\n",
        "tag_list = [\"attack_01\", \"attack_07\", \"attack_08\"]\n",
        "\n",
        "# influxdb query data command\n",
        "measurement = \"sensor_04\"\n",
        "field_key = \"Ib\"\n",
        "tag_key = \"case\"\n",
        "tag_value = \"attack_05\"\n",
        "start_time = \"\" \n",
        "end_time = \"\"\n",
        "\n",
        "#query_command = 'SELECT * FROM \"' + measurement + \\\n",
        " #         '\"'\n",
        "#for tag_value in tag_list:\n",
        "query_command = 'SELECT \"'+ field_key + '\"::field,\"' + tag_key +'\"::tag FROM \"' + measurement + \\\n",
        "          '\"'# WHERE (\"'+ tag_key +'\" = \\''+tag_value+'\\') '\n",
        "\n",
        "\n",
        "query_result = client.query(query_command)\n",
        "\n",
        "\n",
        "# points is a list of dictionary\n",
        "points = list(query_result.get_points())\n",
        "\n",
        "values =  map(operator.itemgetter(field_key), points)\n",
        "data1 = list(values)\n",
        "test =  map(operator.itemgetter(tag_key), points)\n",
        "labels = list(test)\n",
        "#print(np.unique(labels))\n",
        "#print(data.shape)\n",
        "\n",
        "if(len(data1) == 0):\n",
        "  print(\"No data in the chosen time range!\")\n",
        "  quit()\n",
        "else:\n",
        "  print(\"len:\", len(data1))\n",
        "\n",
        "times  =  map(operator.itemgetter('time'),  points)\n",
        "time = list(times)\n",
        "time1=[]\n",
        "cases=[]\n",
        "for t in time:\n",
        "    time1.append(str(t))\n",
        "for l in labels:\n",
        "    cases.append(l)\n",
        "\n",
        "#print(time1[0:5])\n",
        "\n",
        "length = int(len(data1)) # print(np.unique(y))\n",
        "\n",
        "\n",
        "timet = []\n",
        "i=0\n",
        "while i < length:\n",
        "      #print (t)\n",
        "      if len(time[i])==27:\n",
        "        temp = datetime.strptime(time[i], \"%Y-%m-%dT%H:%M:%S.%fZ\")\n",
        "      elif len(time[i])==20:\n",
        "        temp = datetime.strptime(time[i], \"%Y-%m-%dT%H:%M:%SZ\")\n",
        "      timet.append(temp)\n",
        "      i+=1\n",
        "\n",
        "\n",
        "datatemp={'time':[x for x in time1],\n",
        "      'data':[d for d in data1],\n",
        "      'case':[c for c in cases]}\n",
        "dataset=pd.DataFrame(datatemp,columns=['time','data','case'])\n",
        "fs = 20000 # for electric waveform data, 20KHz\n",
        "dataset.case = pd.Categorical(dataset.case)\n",
        "dataset['label'] = dataset.case.cat.codes\n",
        "#dataset.drop(['case'], axis=1)\n",
        "del dataset['case']\n",
        "\n",
        "#print(dataset[90000:90005])\n",
        "\n",
        "\n",
        "X=np.zeros((length,2),dtype=np.float64)\n",
        "\n",
        "y=[] #np.zeros((length,1),dtype=np.float64)\n",
        "\n",
        "i=0\n",
        "while i<length:\n",
        "  X[i][0]= int(timet[i].timestamp())\n",
        "  X[i][1]= dataset['data'][i]\n",
        "  y.append(dataset['label'][i])\n",
        "  i+=1\n",
        "\n",
        "del dataset\n",
        "\n",
        "# Specify the number of clusters and fit the data X\n",
        "#print(len(np.unique(y)))\n",
        "ks = KMeans(n_clusters=len(np.unique(y)), random_state=0)\n",
        "kmeans = ks.fit(X) #KMeans(n_clusters=2, random_state=0).fit(X)\n",
        "# Get the cluster centroids\n",
        "print(\"CLuster centers\")\n",
        "print(ks.cluster_centers_)\n",
        "\n",
        "# Plotting the cluster centers and the data points on a 2D plane\n",
        "plt.scatter(X[:, 0], X[:, -1])\n",
        "    \n",
        "plt.scatter(kmeans.cluster_centers_[:, 0], kmeans.cluster_centers_[:, 1], c='red', marker='x')\n",
        "    \n",
        "plt.title('Data points and cluster centroids')\n",
        "plt.show()\n",
        "for yi in range(2):\n",
        "        plt.subplot(2, 1, 1 + yi)\n",
        "        for xx in X[kmeans == yi]:\n",
        "            plt.plot(xx.ravel(), \"k-\", alpha=.2)\n",
        "        plt.plot(X, color='red')\n",
        "        plt.plot(ks.cluster_centers_[yi].ravel(), \"r-\", color='green')\n",
        "        #plt.xlim(0, sz)\n",
        "        #plt.ylim(-4, 4)\n",
        "        plt.title(\"Cluster %d\" % (yi + 1))\n",
        "#a=[[-1.0, -4.6],[12.2, 80.0],[5.5,7.0]]\n",
        "#print([[1.0, 4.6]])\n",
        "#print(\"Predictions:\")\n",
        "#kmeans.predict(a)"
      ],
      "execution_count": 5,
      "outputs": [
        {
          "output_type": "stream",
          "text": [
            "/usr/local/lib/python3.7/dist-packages/urllib3/connectionpool.py:847: InsecureRequestWarning: Unverified HTTPS request is being made. Adding certificate verification is strongly advised. See: https://urllib3.readthedocs.io/en/latest/advanced-usage.html#ssl-warnings\n",
            "  InsecureRequestWarning)\n"
          ],
          "name": "stderr"
        },
        {
          "output_type": "stream",
          "text": [
            "len: 420021\n",
            "CLuster centers\n",
            "[[ 1.58207059e+09  8.56355733e-03]\n",
            " [ 1.58207141e+09 -8.96119573e-03]\n",
            " [ 1.58207098e+09  1.36792818e-02]\n",
            " [ 1.58207165e+09 -1.91191184e-02]\n",
            " [ 1.58207128e+09 -2.87590977e-04]\n",
            " [ 1.58207078e+09 -1.13458513e-03]\n",
            " [ 1.58207153e+09  1.77794024e-03]\n",
            " [ 1.58207048e+09  8.19299657e-03]\n",
            " [ 1.58207085e+09  8.40770640e-03]\n",
            " [ 1.58207110e+09  8.25005977e-03]\n",
            " [ 1.58207072e+09  7.62537756e-03]\n",
            " [ 1.58207122e+09 -5.05720069e-03]\n",
            " [ 1.58207104e+09  1.41632259e-03]\n",
            " [ 1.58207159e+09  2.57302226e-02]\n",
            " [ 1.58207134e+09  7.66983092e-03]\n",
            " [ 1.58207092e+09 -8.59683408e-03]\n",
            " [ 1.58207147e+09  8.23025754e-03]\n",
            " [ 1.58207043e+09  9.12106528e-03]\n",
            " [ 1.58207054e+09  8.47378379e-03]\n",
            " [ 1.58207065e+09  7.82926061e-03]\n",
            " [ 1.58207116e+09 -4.74640059e-03]]\n"
          ],
          "name": "stdout"
        },
        {
          "output_type": "display_data",
          "data": {
            "image/png": "[encoded data removed]",
            "text/plain": [
              "<Figure size 432x288 with 1 Axes>"
            ]
          },
          "metadata": {
            "tags": [],
            "needs_background": "light"
          }
        },
        {
          "output_type": "display_data",
          "data": {
            "image/png": "[encoded data removed]",
            "text/plain": [
              "<Figure size 432x288 with 2 Axes>"
            ]
          },
          "metadata": {
            "tags": [],
            "needs_background": "light"
          }
        }
      ]
    }
  ]
}